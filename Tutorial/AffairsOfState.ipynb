{
 "cells": [
  {
   "cell_type": "code",
   "execution_count": 2,
   "metadata": {},
   "outputs": [
    {
     "name": "stdout",
     "output_type": "stream",
     "text": [
      "Running test case 0 with input '[1.23, 4.56]'...\n",
      "Correct!\n"
     ]
    }
   ],
   "source": [
    "import json\n",
    "import pennylane as qml\n",
    "import pennylane.numpy as np\n",
    "\n",
    "# Put your code here #\n",
    "\n",
    "# Create a default.qubit device with 2 qubits / wires using qml.device\n",
    "dev = qml.device(\"default.qubit\", wires = 2)\n",
    "\n",
    "@qml.qnode(dev)\n",
    "\n",
    "\n",
    "# Turn your circuit into a QNode\n",
    "\n",
    "def circuit(angles):\n",
    "    \"\"\"The quantum circuit that you will simulate.\n",
    "\n",
    "    Args:\n",
    "        angles (list(float)): The gate angles in the circuit.\n",
    "\n",
    "    Returns:\n",
    "        (numpy.tensor): \n",
    "            The probability vector of the underlying quantum state that this circuit produces.\n",
    "    \"\"\"\n",
    "    # Put the rotation gates here\n",
    "    qml.RY(angles[0], wires=0)\n",
    "    qml.RX(angles[1], wires=1)\n",
    "\n",
    "    return qml.probs(wires=[0, 1])\n",
    "\n",
    "\n",
    "# These functions are responsible for testing the solution. \n",
    "def run(test_case_input: str) -> str:\n",
    "    angles = json.loads(test_case_input)\n",
    "    output = circuit(angles).tolist()\n",
    "\n",
    "    return str(output)\n",
    "\n",
    "def check(solution_output: str, expected_output: str) -> None:\n",
    "    solution_output = json.loads(solution_output)\n",
    "    expected_output = json.loads(expected_output)\n",
    "    assert np.allclose(solution_output, expected_output, rtol=1e-4)\n",
    "    \n",
    "\n",
    "\n",
    "test_cases = [['[1.23, 4.56]', '[0.2829251572359589, 0.3841937063262924, 0.1411749135148633, 0.19170622292288542]']]\n",
    "\n",
    "for i, (input_, expected_output) in enumerate(test_cases):\n",
    "    print(f\"Running test case {i} with input '{input_}'...\")\n",
    "\n",
    "    try:\n",
    "        output = run(input_)\n",
    "\n",
    "    except Exception as exc:\n",
    "        print(f\"Runtime Error. {exc}\")\n",
    "\n",
    "    else:\n",
    "        if message := check(output, expected_output):\n",
    "            print(f\"Wrong Answer. Have: '{output}'. Want: '{expected_output}'.\")\n",
    "\n",
    "        else:\n",
    "            print(\"Correct!\")"
   ]
  }
 ],
 "metadata": {
  "kernelspec": {
   "display_name": "Python 3",
   "language": "python",
   "name": "python3"
  },
  "language_info": {
   "codemirror_mode": {
    "name": "ipython",
    "version": 3
   },
   "file_extension": ".py",
   "mimetype": "text/x-python",
   "name": "python",
   "nbconvert_exporter": "python",
   "pygments_lexer": "ipython3",
   "version": "3.11.1"
  },
  "orig_nbformat": 4,
  "vscode": {
   "interpreter": {
    "hash": "e2faac7a1f739cb347a1759e3578ad025fec904b94ab3d4af7ea1f5678246581"
   }
  }
 },
 "nbformat": 4,
 "nbformat_minor": 2
}
