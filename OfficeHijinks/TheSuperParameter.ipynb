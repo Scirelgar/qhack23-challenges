{
 "cells": [
  {
   "cell_type": "code",
   "execution_count": 4,
   "metadata": {},
   "outputs": [],
   "source": [
    "import json\n",
    "import pennylane as qml\n",
    "import pennylane.numpy as np\n",
    "import matplotlib.pyplot as plt\n",
    "\n",
    "dev = qml.device(\"default.qubit\", wires=3)\n",
    "\n",
    "\n",
    "@qml.qnode(dev)\n",
    "\n",
    "def model(alpha):\n",
    "    \"\"\"In this qnode you will define your model in such a way that there is a single \n",
    "    parameter alpha which returns each of the basic states.\n",
    "\n",
    "    Args:\n",
    "        alpha (float): The only parameter of the model.\n",
    "\n",
    "    Returns:\n",
    "        (numpy.tensor): The probability vector of the resulting quantum state.\n",
    "    \"\"\"\n",
    "    # Put your code here #\n",
    "    \n",
    "\n",
    "    # The following lines are the encoding of each qubit\n",
    "    \n",
    "    return qml.probs(wires=range(3))\n",
    "\n",
    "def generate_coefficients():\n",
    "    \"\"\"This function must return a list of 8 different values of the parameter that\n",
    "    generate the states 000, 001, 010, ..., 111, respectively, with your ansatz.\n",
    "\n",
    "    Returns:\n",
    "        (list(int)): A list of eight real numbers.\n",
    "    \"\"\"\n",
    "    # Put your code here #\n",
    "    return [0.1, 1.2, 2.3, 3.8, 4.1, 4.9, 5.8, 7.0]\n",
    "\n"
   ]
  },
  {
   "cell_type": "code",
   "execution_count": 5,
   "metadata": {},
   "outputs": [
    {
     "data": {
      "image/png": "[encoded data removed]",
      "text/plain": [
       "<Figure size 400x400 with 1 Axes>"
      ]
     },
     "metadata": {},
     "output_type": "display_data"
    }
   ],
   "source": [
    "qml.draw_mpl(model, show_all_wires=True)(6)\n",
    "plt.show()"
   ]
  },
  {
   "cell_type": "code",
   "execution_count": 34,
   "metadata": {},
   "outputs": [
    {
     "name": "stdout",
     "output_type": "stream",
     "text": [
      "Running test case 0 with input 'No input'...\n"
     ]
    },
    {
     "ename": "AssertionError",
     "evalue": "",
     "output_type": "error",
     "traceback": [
      "\u001b[1;31m---------------------------------------------------------------------------\u001b[0m",
      "\u001b[1;31mAssertionError\u001b[0m                            Traceback (most recent call last)",
      "Cell \u001b[1;32mIn[34], line 52\u001b[0m\n\u001b[0;32m     49\u001b[0m     \u001b[39mprint\u001b[39m(\u001b[39mf\u001b[39m\u001b[39m\"\u001b[39m\u001b[39mRuntime Error. \u001b[39m\u001b[39m{\u001b[39;00mexc\u001b[39m}\u001b[39;00m\u001b[39m\"\u001b[39m)\n\u001b[0;32m     51\u001b[0m \u001b[39melse\u001b[39;00m:\n\u001b[1;32m---> 52\u001b[0m     \u001b[39mif\u001b[39;00m message \u001b[39m:=\u001b[39m check(output, expected_output):\n\u001b[0;32m     53\u001b[0m         \u001b[39mprint\u001b[39m(\u001b[39mf\u001b[39m\u001b[39m\"\u001b[39m\u001b[39mWrong Answer. Have: \u001b[39m\u001b[39m'\u001b[39m\u001b[39m{\u001b[39;00moutput\u001b[39m}\u001b[39;00m\u001b[39m'\u001b[39m\u001b[39m. Want: \u001b[39m\u001b[39m'\u001b[39m\u001b[39m{\u001b[39;00mexpected_output\u001b[39m}\u001b[39;00m\u001b[39m'\u001b[39m\u001b[39m.\u001b[39m\u001b[39m\"\u001b[39m)\n\u001b[0;32m     55\u001b[0m     \u001b[39melse\u001b[39;00m:\n",
      "Cell \u001b[1;32mIn[34], line 11\u001b[0m, in \u001b[0;36mcheck\u001b[1;34m(solution_output, expected_output)\u001b[0m\n\u001b[0;32m      8\u001b[0m epsilon \u001b[39m=\u001b[39m \u001b[39m0.001\u001b[39m\n\u001b[0;32m     10\u001b[0m \u001b[39mfor\u001b[39;00m i \u001b[39min\u001b[39;00m \u001b[39mrange\u001b[39m(\u001b[39mlen\u001b[39m(coefs)):\n\u001b[1;32m---> 11\u001b[0m     \u001b[39massert\u001b[39;00m np\u001b[39m.\u001b[39misclose(output[i][i], \u001b[39m1\u001b[39m)\n\u001b[0;32m     13\u001b[0m \u001b[39mdef\u001b[39;00m \u001b[39mis_continuous\u001b[39m(function, point):\n\u001b[0;32m     14\u001b[0m     limit \u001b[39m=\u001b[39m calculate_limit(function, point)\n",
      "\u001b[1;31mAssertionError\u001b[0m: "
     ]
    }
   ],
   "source": [
    "# These functions are responsible for testing the solution.\n",
    "def run(test_case_input: str) -> str:\n",
    "    return None\n",
    "\n",
    "def check(solution_output, expected_output: str) -> None:\n",
    "    coefs = generate_coefficients()\n",
    "    output = np.array([model(c) for c in coefs])\n",
    "    epsilon = 0.001\n",
    "    \n",
    "    for i in range(len(coefs)):\n",
    "        assert np.isclose(output[i][i], 1)\n",
    "\n",
    "    def is_continuous(function, point):\n",
    "        limit = calculate_limit(function, point)\n",
    "\n",
    "        if limit is not None and sum(abs(limit - function(point))) < epsilon:\n",
    "            return True\n",
    "        else:\n",
    "            return False\n",
    "\n",
    "    def is_continuous_in_interval(function, interval):\n",
    "        for point in interval:\n",
    "            if not is_continuous(function, point):\n",
    "                return False\n",
    "        return True\n",
    "\n",
    "    def calculate_limit(function, point):\n",
    "        x_values = [point - epsilon, point, point + epsilon]\n",
    "        y_values = [function(x) for x in x_values]\n",
    "        average = sum(y_values) / len(y_values)\n",
    "\n",
    "        return average\n",
    "\n",
    "    assert is_continuous_in_interval(model, np.arange(0,10,0.001))\n",
    "\n",
    "    for coef in coefs:\n",
    "        assert coef >= 0 and coef <= 10\n",
    "\n",
    "\n",
    "test_cases = [['No input', 'No output']]\n",
    "\n",
    "for i, (input_, expected_output) in enumerate(test_cases):\n",
    "    print(f\"Running test case {i} with input '{input_}'...\")\n",
    "\n",
    "    try:\n",
    "        output = run(input_)\n",
    "\n",
    "    except Exception as exc:\n",
    "        print(f\"Runtime Error. {exc}\")\n",
    "\n",
    "    else:\n",
    "        if message := check(output, expected_output):\n",
    "            print(f\"Wrong Answer. Have: '{output}'. Want: '{expected_output}'.\")\n",
    "\n",
    "        else:\n",
    "            print(\"Correct!\")"
   ]
  }
 ],
 "metadata": {
  "kernelspec": {
   "display_name": "Python 3",
   "language": "python",
   "name": "python3"
  },
  "language_info": {
   "codemirror_mode": {
    "name": "ipython",
    "version": 3
   },
   "file_extension": ".py",
   "mimetype": "text/x-python",
   "name": "python",
   "nbconvert_exporter": "python",
   "pygments_lexer": "ipython3",
   "version": "3.8.6"
  },
  "orig_nbformat": 4,
  "vscode": {
   "interpreter": {
    "hash": "570feb405e2e27c949193ac68f46852414290d515b0ba6e5d90d076ed2284471"
   }
  }
 },
 "nbformat": 4,
 "nbformat_minor": 2
}
